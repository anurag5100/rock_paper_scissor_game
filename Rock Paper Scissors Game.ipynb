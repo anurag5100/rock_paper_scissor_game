{
 "cells": [
  {
   "cell_type": "code",
   "execution_count": 6,
   "id": "9b93ef46",
   "metadata": {},
   "outputs": [
    {
     "name": "stdout",
     "output_type": "stream",
     "text": [
      "Choice any one from below\n",
      "ROCK PAPER SCISSORS\n",
      "rock\n",
      "Computer Wins by ROCK\n",
      "Do want to continue or not? Y/N \n",
      "y\n",
      "Choice any one from below\n",
      "ROCK PAPER SCISSORS\n",
      "rock\n",
      "Player WIN\n",
      "Do want to continue or not? Y/N \n",
      "n\n"
     ]
    }
   ],
   "source": [
    "import random\n",
    "l=[\"ROCK\",\"PAPER\",\"SCISSORS\"]\n",
    "player=False\n",
    "while player==False:\n",
    "    computer=random.choice(l)\n",
    "    ply=input(\"Choice any one from below\\nROCK PAPER SCISSORS\\n\")\n",
    "    if computer==ply:\n",
    "        print(\"Match is Draw...\")\n",
    "    else:\n",
    "        if computer==\"ROCK\":\n",
    "            if ply=='PAPER':\n",
    "                print(\"Computer Wins by ROCK\")\n",
    "            else:\n",
    "                print(\"Computer Wins by ROCK\")\n",
    "        elif computer==\"PAPER\":\n",
    "            if ply==\"SCISSORS\":\n",
    "                print(\"Player WIN\")\n",
    "            else:\n",
    "                print(\"Player WIN\")\n",
    "        elif computer==\"SCISSORS\":\n",
    "            if ply==\"PAPER\":\n",
    "                print(\"Computer Win\")\n",
    "            else:\n",
    "                print(\"Player Win\")\n",
    "    ch=input('Do want to continue or not? Y/N \\n')\n",
    "    if ch==\"N\" or ch==\"n\":\n",
    "        player=True\n",
    "        "
   ]
  }
 ],
 "metadata": {
  "kernelspec": {
   "display_name": "Python 3 (ipykernel)",
   "language": "python",
   "name": "python3"
  },
  "language_info": {
   "codemirror_mode": {
    "name": "ipython",
    "version": 3
   },
   "file_extension": ".py",
   "mimetype": "text/x-python",
   "name": "python",
   "nbconvert_exporter": "python",
   "pygments_lexer": "ipython3",
   "version": "3.9.7"
  }
 },
 "nbformat": 4,
 "nbformat_minor": 5
}
